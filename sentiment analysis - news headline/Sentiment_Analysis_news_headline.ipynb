{
  "nbformat": 4,
  "nbformat_minor": 0,
  "metadata": {
    "colab": {
      "provenance": []
    },
    "kernelspec": {
      "name": "python3",
      "display_name": "Python 3"
    },
    "language_info": {
      "name": "python"
    }
  },
  "cells": [
    {
      "cell_type": "code",
      "execution_count": 1,
      "metadata": {
        "id": "leLd8Fpt11kR"
      },
      "outputs": [],
      "source": [
        "from transformers import pipeline"
      ]
    },
    {
      "cell_type": "code",
      "source": [
        "def sa():\n",
        "  sa_pipe = pipeline(\"text-classification\", model=\"ProsusAI/finbert\")\n",
        "\n",
        "  while True:\n",
        "    headline = input(\"Enter the news headline. I'll give you the sentiment!: \\n (You can type 'exit' to quit) \\t \\t \\t\")\n",
        "\n",
        "    if headline.lower() == \"exit\":\n",
        "      print(\"Exiting Sentiment Analysis. Thanks for your time, bye!\")\n",
        "      break\n",
        "\n",
        "    result = sa_pipe (headline)\n",
        "\n",
        "    # print(\"Pipeline's result format:\", result)\n",
        "\n",
        "    sentiment = result[0]['label']\n",
        "    score = result[0]['score']\n",
        "    print(f\"Ah, I can see the given news headline's sentiment is {sentiment} \\n My Confidence about this prediction is {score:.2f}\")"
      ],
      "metadata": {
        "id": "8NGQ_xAE14K_"
      },
      "execution_count": 9,
      "outputs": []
    },
    {
      "cell_type": "code",
      "source": [
        "if __name__ == \"__main__\":\n",
        "  sa()"
      ],
      "metadata": {
        "colab": {
          "base_uri": "https://localhost:8080/"
        },
        "id": "24LTXSqZ3FOg",
        "outputId": "32da9870-b655-4335-b434-d98fe2be9cea"
      },
      "execution_count": 10,
      "outputs": [
        {
          "output_type": "stream",
          "name": "stderr",
          "text": [
            "Device set to use cpu\n"
          ]
        },
        {
          "output_type": "stream",
          "name": "stdout",
          "text": [
            "Enter the news headline. I'll give you the sentiment!: \n",
            " (You can type 'exit' to quit) \t \t \tEvacuation warnings issued in burn zones as major rainstorm slams into L.A.\n",
            "Ah, I can see the given news headline's sentiment is negative \n",
            " My Confidence about this prediction is 0.96\n",
            "Enter the news headline. I'll give you the sentiment!: \n",
            " (You can type 'exit' to quit) \t \t \texit\n",
            "Exiting Sentiment Analysis. Thanks for your time, bye!\n"
          ]
        }
      ]
    },
    {
      "cell_type": "code",
      "source": [],
      "metadata": {
        "id": "IKar7M184A6D"
      },
      "execution_count": null,
      "outputs": []
    }
  ]
}